{
 "cells": [
  {
   "cell_type": "markdown",
   "metadata": {},
   "source": [
    "## Feature Engineering-4"
   ]
  },
  {
   "cell_type": "code",
   "execution_count": 1,
   "metadata": {},
   "outputs": [
    {
     "name": "stdout",
     "output_type": "stream",
     "text": [
      "            time_spend     score\n",
      "time_spend    1.000000  0.869713\n",
      "score         0.869713  1.000000\n"
     ]
    }
   ],
   "source": [
    "# Q1. Pearson correlation coefficient is a measure of the linear relationship between two variables. Suppose\n",
    "# you have collected data on the amount of time students spend studying for an exam and their final exam\n",
    "# scores. Calculate the Pearson correlation coefficient between these two variables and interpret the result.\n",
    "\n",
    "# Ans:\n",
    "\n",
    "# Import the package\n",
    "import pandas as pd\n",
    "\n",
    "# Make the dataset\n",
    "data = pd.DataFrame(\n",
    "    {\n",
    "        \"time_spend\": [2, 4, 6, 2, 4, 8, 10, 4],\n",
    "        \"score\": [60, 70, 80, 68, 86, 92, 98, 84]\n",
    "    }\n",
    ")\n",
    "\n",
    "p_corr = data.corr(method= 'pearson')\n",
    "print(p_corr)"
   ]
  },
  {
   "cell_type": "code",
   "execution_count": 2,
   "metadata": {},
   "outputs": [],
   "source": [
    "# Interpretation:\n",
    "# There is a highly positive corelation present in between time_spend and score according to the dataset.\n",
    "# So, we can say that if student would spend more time on study then their score will improve."
   ]
  },
  {
   "cell_type": "code",
   "execution_count": 3,
   "metadata": {},
   "outputs": [
    {
     "data": {
      "text/plain": [
       "(   Sleep Hours  Job Satisfaction\n",
       " 0     5.872701                 6\n",
       " 1     8.753572                 5\n",
       " 2     7.659970                 2\n",
       " 3     6.993292                 8\n",
       " 4     4.780093                 6\n",
       " 5     4.779973                 2\n",
       " 6     4.290418                 5\n",
       " 7     8.330881                 1\n",
       " 8     7.005575                10\n",
       " 9     7.540363                 6,\n",
       " -0.19756474308710295)"
      ]
     },
     "execution_count": 3,
     "metadata": {},
     "output_type": "execute_result"
    }
   ],
   "source": [
    "# Q2. Spearman's rank correlation is a measure of the monotonic relationship between two variables.\n",
    "# Suppose you have collected data on the amount of sleep individuals get each night and their overall job\n",
    "# satisfaction level on a scale of 1 to 10. Calculate the Spearman's rank correlation between these two\n",
    "# variables and interpret the result.\n",
    "\n",
    "# Import packages\n",
    "import pandas as pd\n",
    "import numpy as np\n",
    "from scipy.stats import spearmanr\n",
    "\n",
    "# Creating synthetic data for Sleep Hours and Job Satisfaction\n",
    "np.random.seed(42)  # For reproducibility\n",
    "data = {\n",
    "    \"Sleep Hours\": np.random.uniform(4, 9, 10),  # Sleep hours between 4 to 9\n",
    "    \"Job Satisfaction\": np.random.randint(1, 11, 10)  # Job Satisfaction from 1 to 10\n",
    "}\n",
    "\n",
    "# Creating DataFrame\n",
    "df = pd.DataFrame(data)\n",
    "\n",
    "# Calculating Spearman's Rank Correlation\n",
    "spearman_corr, p_value = spearmanr(df[\"Sleep Hours\"], df[\"Job Satisfaction\"])\n",
    "\n",
    "# Display DataFrame and correlation result\n",
    "df, spearman_corr\n"
   ]
  },
  {
   "cell_type": "code",
   "execution_count": 4,
   "metadata": {},
   "outputs": [],
   "source": [
    "# Interpretation:\n",
    "# The correlation coefficient (ρ) is -0.198, which indicates a weak negative correlation between Sleep Hours and \n",
    "# Job Satisfaction.\n",
    "# This means that as sleep hours increase, job satisfaction tends to decrease slightly, but the relationship is weak."
   ]
  },
  {
   "cell_type": "code",
   "execution_count": 5,
   "metadata": {},
   "outputs": [
    {
     "name": "stdout",
     "output_type": "stream",
     "text": [
      "spearman_corr: -0.10330660689994277 \n",
      "\n",
      "pearson_corr: -0.077426401817155\n"
     ]
    }
   ],
   "source": [
    "# Q3. Suppose you are conducting a study to examine the relationship between the number of hours of\n",
    "# exercise per week and body mass index (BMI) in a sample of adults. You collected data on both variables\n",
    "# for 50 participants. Calculate the Pearson correlation coefficient and the Spearman's rank correlation\n",
    "# between these two variables and compare the results.\n",
    "\n",
    "\n",
    "# Ans:\n",
    "\n",
    "# Import packages\n",
    "import pandas as pd\n",
    "import numpy as np\n",
    "from scipy.stats import pearsonr, spearmanr\n",
    "\n",
    "\n",
    "# Creating synthetic data for exercise per week and BMI\n",
    "np.random.seed(42)  # For reproducibility\n",
    "data = {\n",
    "    \"Exercise Per Week\": np.random.uniform(1, 14, 50),  # Exercise Per Week, hours between 1 to 14\n",
    "    \"BMI\": np.random.randint(15, 40, 50)  # BMI index starting from 15 to 40\n",
    "}\n",
    "\n",
    "# Creating DataFrame\n",
    "df = pd.DataFrame(data)\n",
    "\n",
    "\n",
    "# Calculate Spearman's rank correlation\n",
    "spearman_corr, spearman_p_value = spearmanr(df['Exercise Per Week'], df['BMI'])\n",
    "\n",
    "# Calculate Pearson's correlation\n",
    "pearson_corr, pearson_p_value = pearsonr(df['Exercise Per Week'], df['BMI'])\n",
    "\n",
    "print(\"spearman_corr:\", spearman_corr, \"\\n\\npearson_corr:\", pearson_corr)\n"
   ]
  },
  {
   "cell_type": "code",
   "execution_count": 6,
   "metadata": {},
   "outputs": [],
   "source": [
    "# Both of the correlation coefficients are negative and so close to 0 that means they have a very weak negative\n",
    "# correlation."
   ]
  },
  {
   "cell_type": "code",
   "execution_count": 7,
   "metadata": {},
   "outputs": [
    {
     "name": "stdout",
     "output_type": "stream",
     "text": [
      "0.06563469824484601\n"
     ]
    }
   ],
   "source": [
    "# Q4. A researcher is interested in examining the relationship between the number of hours individuals\n",
    "# spend watching television per day and their level of physical activity. The researcher collected data on\n",
    "# both variables from a sample of 50 participants. Calculate the Pearson correlation coefficient between\n",
    "# these two variables.\n",
    "\n",
    "# Ans:\n",
    "\n",
    "\n",
    "# Import packages\n",
    "import pandas as pd\n",
    "import numpy as np\n",
    "from scipy.stats import pearsonr\n",
    "\n",
    "# Creating synthetic dataset\n",
    "np.random.seed(42)\n",
    "data = {\n",
    "    'watching television per day': np.random.uniform(0, 10, 50),\n",
    "    'physical activity': np.random.randint(1, 11, 50) # 1 is less active and 10 means highly active\n",
    "}\n",
    "\n",
    "df = pd.DataFrame(data)\n",
    "\n",
    "p_corr, p_value = pearsonr(df['watching television per day'], df['physical activity'])\n",
    "\n",
    "print(p_corr)"
   ]
  },
  {
   "cell_type": "code",
   "execution_count": 8,
   "metadata": {},
   "outputs": [
    {
     "data": {
      "text/plain": [
       "(   Age  Soft Drink (Numeric)\n",
       " 0   25                     1\n",
       " 1   42                     2\n",
       " 2   37                     3\n",
       " 3   19                     1\n",
       " 4   31                     2\n",
       " 5   28                     1,\n",
       " 0.8332380897952965)"
      ]
     },
     "execution_count": 8,
     "metadata": {},
     "output_type": "execute_result"
    }
   ],
   "source": [
    "# Q5. A survey was conducted to examine the relationship between age and preference for a particular\n",
    "# brand of soft drink. The survey results are shown below:\n",
    "# Age(Years): [25, 42, 37, 19, 31, 28], \n",
    "# Soft drink Preference: ['coke', 'pepsi', 'Mountain dew', 'coke', 'pepsi', 'coke']\n",
    "\n",
    "# Ans:\n",
    "\n",
    "# Import packages\n",
    "import pandas as pd\n",
    "import numpy as np\n",
    "from scipy.stats import spearmanr\n",
    "\n",
    "# Given data\n",
    "age = [25, 42, 37, 19, 31, 28]\n",
    "soft_drink = ['coke', 'pepsi', 'Mountain dew', 'coke', 'pepsi', 'coke']\n",
    "\n",
    "# Encoding soft drink preferences\n",
    "drink_mapping = {'coke': 1, 'pepsi': 2, 'Mountain dew': 3}\n",
    "soft_drink_numeric = [drink_mapping[drink] for drink in soft_drink]\n",
    "\n",
    "\n",
    "df_survey = pd.DataFrame({'Age': age, 'Soft Drink (Numeric)': soft_drink_numeric})\n",
    "\n",
    "# Calculating Spearman's Rank Correlation\n",
    "spearman_corr_survey, p_value_survey = spearmanr(df_survey['Age'], df_survey['Soft Drink (Numeric)'])\n",
    "\n",
    "# Display DataFrame and correlation result\n",
    "df_survey, spearman_corr_survey\n"
   ]
  },
  {
   "cell_type": "code",
   "execution_count": 9,
   "metadata": {},
   "outputs": [
    {
     "name": "stdout",
     "output_type": "stream",
     "text": [
      "Pearson Correlation Coefficient: 0.8488529231577153\n"
     ]
    }
   ],
   "source": [
    "# Q6. A company is interested in examining the relationship between the number of sales calls made per day\n",
    "# and the number of sales made per week. The company collected data on both variables from a sample of\n",
    "# 30 sales representatives. Calculate the Pearson correlation coefficient between these two variables.\n",
    "\n",
    "# Ans:\n",
    "\n",
    "import pandas as pd\n",
    "import numpy as np\n",
    "\n",
    "# Generating synthetic data for 30 sales representatives\n",
    "np.random.seed(42)  # For reproducibility\n",
    "\n",
    "# Number of sales calls per day (between 10 to 50)\n",
    "sales_calls_per_day = np.random.randint(10, 51, 30)\n",
    "\n",
    "# Number of sales per week (correlated with sales calls, adding some randomness)\n",
    "sales_per_week = sales_calls_per_day * 0.6 + np.random.normal(0, 5, 30)\n",
    "\n",
    "# Creating DataFrame\n",
    "df_sales = pd.DataFrame({'Sales Calls per Day': sales_calls_per_day, 'Sales per Week': sales_per_week})\n",
    "\n",
    "# Calculating Pearson's correlation coefficient\n",
    "pearson_corr = df_sales.corr().iloc[0, 1]\n",
    "\n",
    "# Display result\n",
    "print(\"Pearson Correlation Coefficient:\", pearson_corr)\n"
   ]
  },
  {
   "cell_type": "code",
   "execution_count": null,
   "metadata": {},
   "outputs": [],
   "source": []
  }
 ],
 "metadata": {
  "kernelspec": {
   "display_name": "base",
   "language": "python",
   "name": "python3"
  },
  "language_info": {
   "codemirror_mode": {
    "name": "ipython",
    "version": 3
   },
   "file_extension": ".py",
   "mimetype": "text/x-python",
   "name": "python",
   "nbconvert_exporter": "python",
   "pygments_lexer": "ipython3",
   "version": "3.12.4"
  }
 },
 "nbformat": 4,
 "nbformat_minor": 2
}
